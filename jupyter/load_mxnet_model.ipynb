{
 "cells": [
  {
   "cell_type": "markdown",
   "metadata": {},
   "source": [
    "# Load MXNet model\n",
    "\n",
    "In this tutorial, you learn how to load an existing MXNet model and use it to run a prediction task.\n",
    "\n",
    "\n",
    "## Preparation\n",
    "\n",
    "This tutorial requires the installation of Java Kernel. For more information on installing the Java Kernel, see the [README](https://github.com/awslabs/djl/blob/master/jupyter/README.md)."
   ]
  },
  {
   "cell_type": "code",
   "execution_count": 1,
   "metadata": {},
   "outputs": [],
   "source": [
    "%%loadFromPOM\n",
    "    <dependency>\n",
    "        <groupId>ai.djl.aws</groupId>\n",
    "        <artifactId>aws-ai</artifactId>\n",
    "        <version>0.10.0-SNAPSHOT</version>\n",
    "    </dependency>"
   ]
  },
  {
   "cell_type": "code",
   "execution_count": null,
   "metadata": {},
   "outputs": [],
   "source": []
  },
  {
   "cell_type": "code",
   "execution_count": 2,
   "metadata": {},
   "outputs": [],
   "source": [
    "%mavenRepo snapshots https://oss.sonatype.org/content/repositories/snapshots/\n",
    "\n",
    "%maven ai.djl:api:0.10.0-SNAPSHOT\n",
    "%maven ai.djl:model-zoo:0.10.0\n",
    "%maven ai.djl.mxnet:mxnet-engine:0.10.0\n",
    "%maven ai.djl.mxnet:mxnet-model-zoo:0.10.0\n",
    "%maven org.slf4j:slf4j-api:1.7.26\n",
    "%maven org.slf4j:slf4j-simple:1.7.26\n",
    "%maven net.java.dev.jna:jna:5.3.0\n",
    "%maven com.fasterxml.jackson.core:jackson-annotations:2.10.5\n",
    "%maven com.fasterxml.jackson.core:jackson-core:2.10.5\n",
    "%maven com.fasterxml.jackson.core:jackson-databind:2.10.5.1\n",
    "    \n",
    "//%maven ai.djl.aws:aws-ai:0.10.0-SNAPSHOT    \n",
    "\n",
    "    \n",
    "    \n",
    "// See https://github.com/awslabs/djl/blob/master/mxnet/mxnet-engine/README.md\n",
    "// for more MXNet library selection options\n",
    "%maven ai.djl.mxnet:mxnet-native-auto:1.7.0-backport\n"
   ]
  },
  {
   "cell_type": "code",
   "execution_count": null,
   "metadata": {},
   "outputs": [],
   "source": []
  },
  {
   "cell_type": "code",
   "execution_count": 3,
   "metadata": {},
   "outputs": [],
   "source": [
    "import java.awt.image.*;\n",
    "import java.nio.file.*;\n",
    "import ai.djl.*;\n",
    "import ai.djl.inference.*;\n",
    "import ai.djl.ndarray.*;\n",
    "import ai.djl.modality.*;\n",
    "import ai.djl.modality.cv.*;\n",
    "import ai.djl.modality.cv.util.*;\n",
    "import ai.djl.modality.cv.transform.*;\n",
    "import ai.djl.modality.cv.translator.*;\n",
    "import ai.djl.translate.*;\n",
    "import ai.djl.training.util.*;\n",
    "import ai.djl.util.*;\n",
    "import ai.djl.repository.zoo.Criteria;\n",
    "import ai.djl.repository.zoo.ZooModel;\n",
    "import ai.djl.repository.zoo.ModelZoo;\n",
    "import com.google.gson.reflect.TypeToken;\n",
    "\n",
    "import java.io.IOException;\n",
    "import java.io.InputStream;\n",
    "import java.lang.reflect.Type;\n",
    "import java.nio.charset.StandardCharsets;\n",
    "import java.nio.file.Files;\n",
    "import java.nio.file.Path;\n",
    "import java.nio.file.Paths;\n",
    "import java.util.List;\n",
    "import ai.djl.aws.sagemaker.*;\n",
    "//import org.testng.SkipException;\n",
    "//import org.testng.annotations.Test;\n",
    "//import software.amazon.awssdk.auth.credentials.DefaultCredentialsProvider;\n",
    "//import software.amazon.awssdk.core.exception.SdkClientException;\n",
    "//import org.testng.Assert;\n",
    "\n",
    "\n",
    "\n",
    "//import software.amazon.awssdk.services.s3.S3Client;\n",
    "\n",
    "\n",
    "\n"
   ]
  },
  {
   "cell_type": "markdown",
   "metadata": {},
   "source": [
    "## Step 1: Prepare your MXNet model\n",
    "\n",
    "This tutorial assumes that you have a MXNet model trained using Python. A MXNet symbolic model usually contains the following files:\n",
    "* Symbol file: {MODEL_NAME}-symbol.json - a json file that contains network information about the model\n",
    "* Parameters file: {MODEL_NAME}-{EPOCH}.params - a binary file that stores the parameter weight and bias\n",
    "* Synset file: synset.txt - an optional text file that stores classification classes labels\n",
    "\n",
    "This tutorial uses a pre-trained MXNet `resnet18_v1` model."
   ]
  },
  {
   "cell_type": "markdown",
   "metadata": {},
   "source": [
    "We use `DownloadUtils` for downloading files from internet."
   ]
  },
  {
   "cell_type": "code",
   "execution_count": 4,
   "metadata": {},
   "outputs": [],
   "source": [
    "DownloadUtils.download(\"https://mlrepo.djl.ai/model/cv/image_classification/ai/djl/mxnet/resnet/0.0.1/resnet18_v1-symbol.json\", \"build/resnet/resnet18_v1-symbol.json\", new ProgressBar());\n",
    "DownloadUtils.download(\"https://mlrepo.djl.ai/model/cv/image_classification/ai/djl/mxnet/resnet/0.0.1/resnet18_v1-0000.params.gz\", \"build/resnet/resnet18_v1-0000.params\", new ProgressBar());\n",
    "DownloadUtils.download(\"https://mlrepo.djl.ai/model/cv/image_classification/ai/djl/mxnet/synset.txt\", \"build/resnet/synset.txt\", new ProgressBar());\n"
   ]
  },
  {
   "cell_type": "markdown",
   "metadata": {},
   "source": [
    "## Step 2: Load your model"
   ]
  },
  {
   "cell_type": "code",
   "execution_count": 5,
   "metadata": {},
   "outputs": [
    {
     "name": "stdout",
     "output_type": "stream",
     "text": [
      "ai.djl.mxnet.engine.MxModel\n"
     ]
    }
   ],
   "source": [
    "Path modelDir = Paths.get(\"build/resnet\");\n",
    "Model model = Model.newInstance(\"resnet\");\n",
    "model.load(modelDir, \"resnet18_v1\");\n",
    "System.out.println(model.getClass().getName());"
   ]
  },
  {
   "cell_type": "code",
   "execution_count": 6,
   "metadata": {},
   "outputs": [],
   "source": [
    "//S3Client.builder().build()"
   ]
  },
  {
   "cell_type": "code",
   "execution_count": 8,
   "metadata": {},
   "outputs": [
    {
     "name": "stderr",
     "output_type": "stream",
     "text": [
      "[IJava-executor-0] WARN software.amazon.awssdk.profiles.internal.ProfileFileReader - Ignoring profile 'tf-neo' on line 4 because it did not start with 'profile ' and it was not 'default'.\n",
      "[IJava-executor-0] WARN software.amazon.awssdk.profiles.internal.ProfileFileReader - Ignoring profile 'tf-neo' on line 4 because it did not start with 'profile ' and it was not 'default'.\n",
      "[IJava-executor-0] WARN software.amazon.awssdk.profiles.internal.ProfileFileReader - Ignoring profile 'tf-neo' on line 4 because it did not start with 'profile ' and it was not 'default'.\n",
      "[IJava-executor-0] WARN software.amazon.awssdk.profiles.internal.ProfileFileReader - Ignoring profile 'tf-neo' on line 4 because it did not start with 'profile ' and it was not 'default'.\n",
      "[IJava-executor-0] INFO ai.djl.aws.sagemaker.SageMaker - S3 bucket: djl-sm-test already exists.\n",
      "[IJava-executor-0] INFO ai.djl.aws.sagemaker.SageMaker - Model uploaded to: s3://djl-sm-test/resnet.tar.gz\n",
      "[IJava-executor-0] INFO ai.djl.aws.sagemaker.SageMaker - SageMaker model resnet created: arn:aws:sagemaker:us-east-1:125045733377:model/resnet\n",
      "[IJava-executor-0] INFO ai.djl.aws.sagemaker.SageMaker - Creating endpoint config resnet ...\n",
      "[IJava-executor-0] INFO ai.djl.aws.sagemaker.SageMaker - SageMaker endpoint configure resnet created: arn:aws:sagemaker:us-east-1:125045733377:endpoint-config/resnet\n",
      "[IJava-executor-0] INFO ai.djl.aws.sagemaker.SageMaker - Creating endpoint resnet ...\n"
     ]
    },
    {
     "ename": "EvalException",
     "evalue": "A waiter acceptor was matched and transitioned the waiter to failure state",
     "output_type": "error",
     "traceback": [
      "\u001b[1m\u001b[31m---------------------------------------------------------------------------\u001b[0m",
      "\u001b[1m\u001b[31msoftware.amazon.awssdk.core.exception.SdkClientException: A waiter acceptor was matched and transitioned the waiter to failure state\u001b[0m",
      "\u001b[1m\u001b[31m\tat software.amazon.awssdk.core.exception.SdkClientException$BuilderImpl.build(SdkClientException.java:98)\u001b[0m",
      "\u001b[1m\u001b[31m\tat software.amazon.awssdk.core.exception.SdkClientException.create(SdkClientException.java:39)\u001b[0m",
      "\u001b[1m\u001b[31m\tat software.amazon.awssdk.core.internal.waiters.WaiterExecutorHelper.waiterFailureException(WaiterExecutorHelper.java:99)\u001b[0m",
      "\u001b[1m\u001b[31m\tat software.amazon.awssdk.core.internal.waiters.WaiterExecutor.evaluate(WaiterExecutor.java:77)\u001b[0m",
      "\u001b[1m\u001b[31m\tat software.amazon.awssdk.core.internal.waiters.WaiterExecutor.doExecute(WaiterExecutor.java:60)\u001b[0m",
      "\u001b[1m\u001b[31m\tat software.amazon.awssdk.core.internal.waiters.WaiterExecutor.maybeRetry(WaiterExecutor.java:100)\u001b[0m",
      "\u001b[1m\u001b[31m\tat software.amazon.awssdk.core.internal.waiters.WaiterExecutor.evaluate(WaiterExecutor.java:75)\u001b[0m",
      "\u001b[1m\u001b[31m\tat software.amazon.awssdk.core.internal.waiters.WaiterExecutor.doExecute(WaiterExecutor.java:60)\u001b[0m",
      "\u001b[1m\u001b[31m\tat software.amazon.awssdk.core.internal.waiters.WaiterExecutor.maybeRetry(WaiterExecutor.java:100)\u001b[0m",
      "\u001b[1m\u001b[31m\tat software.amazon.awssdk.core.internal.waiters.WaiterExecutor.evaluate(WaiterExecutor.java:75)\u001b[0m",
      "\u001b[1m\u001b[31m\tat software.amazon.awssdk.core.internal.waiters.WaiterExecutor.doExecute(WaiterExecutor.java:60)\u001b[0m",
      "\u001b[1m\u001b[31m\tat software.amazon.awssdk.core.internal.waiters.WaiterExecutor.maybeRetry(WaiterExecutor.java:100)\u001b[0m",
      "\u001b[1m\u001b[31m\tat software.amazon.awssdk.core.internal.waiters.WaiterExecutor.evaluate(WaiterExecutor.java:75)\u001b[0m",
      "\u001b[1m\u001b[31m\tat software.amazon.awssdk.core.internal.waiters.WaiterExecutor.doExecute(WaiterExecutor.java:60)\u001b[0m",
      "\u001b[1m\u001b[31m\tat software.amazon.awssdk.core.internal.waiters.WaiterExecutor.maybeRetry(WaiterExecutor.java:100)\u001b[0m",
      "\u001b[1m\u001b[31m\tat software.amazon.awssdk.core.internal.waiters.WaiterExecutor.evaluate(WaiterExecutor.java:75)\u001b[0m",
      "\u001b[1m\u001b[31m\tat software.amazon.awssdk.core.internal.waiters.WaiterExecutor.doExecute(WaiterExecutor.java:60)\u001b[0m",
      "\u001b[1m\u001b[31m\tat software.amazon.awssdk.core.internal.waiters.WaiterExecutor.maybeRetry(WaiterExecutor.java:100)\u001b[0m",
      "\u001b[1m\u001b[31m\tat software.amazon.awssdk.core.internal.waiters.WaiterExecutor.evaluate(WaiterExecutor.java:75)\u001b[0m",
      "\u001b[1m\u001b[31m\tat software.amazon.awssdk.core.internal.waiters.WaiterExecutor.doExecute(WaiterExecutor.java:60)\u001b[0m",
      "\u001b[1m\u001b[31m\tat software.amazon.awssdk.core.internal.waiters.WaiterExecutor.maybeRetry(WaiterExecutor.java:100)\u001b[0m",
      "\u001b[1m\u001b[31m\tat software.amazon.awssdk.core.internal.waiters.WaiterExecutor.evaluate(WaiterExecutor.java:75)\u001b[0m",
      "\u001b[1m\u001b[31m\tat software.amazon.awssdk.core.internal.waiters.WaiterExecutor.doExecute(WaiterExecutor.java:60)\u001b[0m",
      "\u001b[1m\u001b[31m\tat software.amazon.awssdk.core.internal.waiters.WaiterExecutor.maybeRetry(WaiterExecutor.java:100)\u001b[0m",
      "\u001b[1m\u001b[31m\tat software.amazon.awssdk.core.internal.waiters.WaiterExecutor.evaluate(WaiterExecutor.java:75)\u001b[0m",
      "\u001b[1m\u001b[31m\tat software.amazon.awssdk.core.internal.waiters.WaiterExecutor.doExecute(WaiterExecutor.java:60)\u001b[0m",
      "\u001b[1m\u001b[31m\tat software.amazon.awssdk.core.internal.waiters.WaiterExecutor.maybeRetry(WaiterExecutor.java:100)\u001b[0m",
      "\u001b[1m\u001b[31m\tat software.amazon.awssdk.core.internal.waiters.WaiterExecutor.evaluate(WaiterExecutor.java:75)\u001b[0m",
      "\u001b[1m\u001b[31m\tat software.amazon.awssdk.core.internal.waiters.WaiterExecutor.doExecute(WaiterExecutor.java:60)\u001b[0m",
      "\u001b[1m\u001b[31m\tat software.amazon.awssdk.core.internal.waiters.WaiterExecutor.maybeRetry(WaiterExecutor.java:100)\u001b[0m",
      "\u001b[1m\u001b[31m\tat software.amazon.awssdk.core.internal.waiters.WaiterExecutor.evaluate(WaiterExecutor.java:75)\u001b[0m",
      "\u001b[1m\u001b[31m\tat software.amazon.awssdk.core.internal.waiters.WaiterExecutor.doExecute(WaiterExecutor.java:60)\u001b[0m",
      "\u001b[1m\u001b[31m\tat software.amazon.awssdk.core.internal.waiters.WaiterExecutor.maybeRetry(WaiterExecutor.java:100)\u001b[0m",
      "\u001b[1m\u001b[31m\tat software.amazon.awssdk.core.internal.waiters.WaiterExecutor.evaluate(WaiterExecutor.java:75)\u001b[0m",
      "\u001b[1m\u001b[31m\tat software.amazon.awssdk.core.internal.waiters.WaiterExecutor.doExecute(WaiterExecutor.java:60)\u001b[0m",
      "\u001b[1m\u001b[31m\tat software.amazon.awssdk.core.internal.waiters.WaiterExecutor.maybeRetry(WaiterExecutor.java:100)\u001b[0m",
      "\u001b[1m\u001b[31m\tat software.amazon.awssdk.core.internal.waiters.WaiterExecutor.evaluate(WaiterExecutor.java:75)\u001b[0m",
      "\u001b[1m\u001b[31m\tat software.amazon.awssdk.core.internal.waiters.WaiterExecutor.doExecute(WaiterExecutor.java:60)\u001b[0m",
      "\u001b[1m\u001b[31m\tat software.amazon.awssdk.core.internal.waiters.WaiterExecutor.maybeRetry(WaiterExecutor.java:100)\u001b[0m",
      "\u001b[1m\u001b[31m\tat software.amazon.awssdk.core.internal.waiters.WaiterExecutor.evaluate(WaiterExecutor.java:75)\u001b[0m",
      "\u001b[1m\u001b[31m\tat software.amazon.awssdk.core.internal.waiters.WaiterExecutor.doExecute(WaiterExecutor.java:60)\u001b[0m",
      "\u001b[1m\u001b[31m\tat software.amazon.awssdk.core.internal.waiters.WaiterExecutor.maybeRetry(WaiterExecutor.java:100)\u001b[0m",
      "\u001b[1m\u001b[31m\tat software.amazon.awssdk.core.internal.waiters.WaiterExecutor.evaluate(WaiterExecutor.java:75)\u001b[0m",
      "\u001b[1m\u001b[31m\tat software.amazon.awssdk.core.internal.waiters.WaiterExecutor.doExecute(WaiterExecutor.java:60)\u001b[0m",
      "\u001b[1m\u001b[31m\tat software.amazon.awssdk.core.internal.waiters.WaiterExecutor.maybeRetry(WaiterExecutor.java:100)\u001b[0m",
      "\u001b[1m\u001b[31m\tat software.amazon.awssdk.core.internal.waiters.WaiterExecutor.evaluate(WaiterExecutor.java:75)\u001b[0m",
      "\u001b[1m\u001b[31m\tat software.amazon.awssdk.core.internal.waiters.WaiterExecutor.doExecute(WaiterExecutor.java:60)\u001b[0m",
      "\u001b[1m\u001b[31m\tat software.amazon.awssdk.core.internal.waiters.WaiterExecutor.maybeRetry(WaiterExecutor.java:100)\u001b[0m",
      "\u001b[1m\u001b[31m\tat software.amazon.awssdk.core.internal.waiters.WaiterExecutor.evaluate(WaiterExecutor.java:75)\u001b[0m",
      "\u001b[1m\u001b[31m\tat software.amazon.awssdk.core.internal.waiters.WaiterExecutor.doExecute(WaiterExecutor.java:60)\u001b[0m",
      "\u001b[1m\u001b[31m\tat software.amazon.awssdk.core.internal.waiters.WaiterExecutor.maybeRetry(WaiterExecutor.java:100)\u001b[0m",
      "\u001b[1m\u001b[31m\tat software.amazon.awssdk.core.internal.waiters.WaiterExecutor.evaluate(WaiterExecutor.java:75)\u001b[0m",
      "\u001b[1m\u001b[31m\tat software.amazon.awssdk.core.internal.waiters.WaiterExecutor.doExecute(WaiterExecutor.java:60)\u001b[0m",
      "\u001b[1m\u001b[31m\tat software.amazon.awssdk.core.internal.waiters.WaiterExecutor.maybeRetry(WaiterExecutor.java:100)\u001b[0m",
      "\u001b[1m\u001b[31m\tat software.amazon.awssdk.core.internal.waiters.WaiterExecutor.evaluate(WaiterExecutor.java:75)\u001b[0m",
      "\u001b[1m\u001b[31m\tat software.amazon.awssdk.core.internal.waiters.WaiterExecutor.doExecute(WaiterExecutor.java:60)\u001b[0m",
      "\u001b[1m\u001b[31m\tat software.amazon.awssdk.core.internal.waiters.WaiterExecutor.maybeRetry(WaiterExecutor.java:100)\u001b[0m",
      "\u001b[1m\u001b[31m\tat software.amazon.awssdk.core.internal.waiters.WaiterExecutor.evaluate(WaiterExecutor.java:75)\u001b[0m",
      "\u001b[1m\u001b[31m\tat software.amazon.awssdk.core.internal.waiters.WaiterExecutor.doExecute(WaiterExecutor.java:60)\u001b[0m",
      "\u001b[1m\u001b[31m\tat software.amazon.awssdk.core.internal.waiters.WaiterExecutor.maybeRetry(WaiterExecutor.java:100)\u001b[0m",
      "\u001b[1m\u001b[31m\tat software.amazon.awssdk.core.internal.waiters.WaiterExecutor.evaluate(WaiterExecutor.java:75)\u001b[0m",
      "\u001b[1m\u001b[31m\tat software.amazon.awssdk.core.internal.waiters.WaiterExecutor.doExecute(WaiterExecutor.java:60)\u001b[0m",
      "\u001b[1m\u001b[31m\tat software.amazon.awssdk.core.internal.waiters.WaiterExecutor.maybeRetry(WaiterExecutor.java:100)\u001b[0m",
      "\u001b[1m\u001b[31m\tat software.amazon.awssdk.core.internal.waiters.WaiterExecutor.evaluate(WaiterExecutor.java:75)\u001b[0m",
      "\u001b[1m\u001b[31m\tat software.amazon.awssdk.core.internal.waiters.WaiterExecutor.doExecute(WaiterExecutor.java:60)\u001b[0m",
      "\u001b[1m\u001b[31m\tat software.amazon.awssdk.core.internal.waiters.WaiterExecutor.maybeRetry(WaiterExecutor.java:100)\u001b[0m",
      "\u001b[1m\u001b[31m\tat software.amazon.awssdk.core.internal.waiters.WaiterExecutor.evaluate(WaiterExecutor.java:75)\u001b[0m",
      "\u001b[1m\u001b[31m\tat software.amazon.awssdk.core.internal.waiters.WaiterExecutor.doExecute(WaiterExecutor.java:60)\u001b[0m",
      "\u001b[1m\u001b[31m\tat software.amazon.awssdk.core.internal.waiters.WaiterExecutor.maybeRetry(WaiterExecutor.java:100)\u001b[0m",
      "\u001b[1m\u001b[31m\tat software.amazon.awssdk.core.internal.waiters.WaiterExecutor.evaluate(WaiterExecutor.java:75)\u001b[0m",
      "\u001b[1m\u001b[31m\tat software.amazon.awssdk.core.internal.waiters.WaiterExecutor.doExecute(WaiterExecutor.java:60)\u001b[0m",
      "\u001b[1m\u001b[31m\tat software.amazon.awssdk.core.internal.waiters.WaiterExecutor.maybeRetry(WaiterExecutor.java:100)\u001b[0m",
      "\u001b[1m\u001b[31m\tat software.amazon.awssdk.core.internal.waiters.WaiterExecutor.evaluate(WaiterExecutor.java:75)\u001b[0m",
      "\u001b[1m\u001b[31m\tat software.amazon.awssdk.core.internal.waiters.WaiterExecutor.doExecute(WaiterExecutor.java:60)\u001b[0m",
      "\u001b[1m\u001b[31m\tat software.amazon.awssdk.core.internal.waiters.WaiterExecutor.maybeRetry(WaiterExecutor.java:100)\u001b[0m",
      "\u001b[1m\u001b[31m\tat software.amazon.awssdk.core.internal.waiters.WaiterExecutor.evaluate(WaiterExecutor.java:75)\u001b[0m",
      "\u001b[1m\u001b[31m\tat software.amazon.awssdk.core.internal.waiters.WaiterExecutor.doExecute(WaiterExecutor.java:60)\u001b[0m",
      "\u001b[1m\u001b[31m\tat software.amazon.awssdk.core.internal.waiters.WaiterExecutor.maybeRetry(WaiterExecutor.java:100)\u001b[0m",
      "\u001b[1m\u001b[31m\tat software.amazon.awssdk.core.internal.waiters.WaiterExecutor.evaluate(WaiterExecutor.java:75)\u001b[0m",
      "\u001b[1m\u001b[31m\tat software.amazon.awssdk.core.internal.waiters.WaiterExecutor.doExecute(WaiterExecutor.java:60)\u001b[0m",
      "\u001b[1m\u001b[31m\tat software.amazon.awssdk.core.internal.waiters.WaiterExecutor.maybeRetry(WaiterExecutor.java:100)\u001b[0m",
      "\u001b[1m\u001b[31m\tat software.amazon.awssdk.core.internal.waiters.WaiterExecutor.evaluate(WaiterExecutor.java:75)\u001b[0m",
      "\u001b[1m\u001b[31m\tat software.amazon.awssdk.core.internal.waiters.WaiterExecutor.doExecute(WaiterExecutor.java:60)\u001b[0m",
      "\u001b[1m\u001b[31m\tat software.amazon.awssdk.core.internal.waiters.WaiterExecutor.maybeRetry(WaiterExecutor.java:100)\u001b[0m",
      "\u001b[1m\u001b[31m\tat software.amazon.awssdk.core.internal.waiters.WaiterExecutor.evaluate(WaiterExecutor.java:75)\u001b[0m",
      "\u001b[1m\u001b[31m\tat software.amazon.awssdk.core.internal.waiters.WaiterExecutor.doExecute(WaiterExecutor.java:60)\u001b[0m",
      "\u001b[1m\u001b[31m\tat software.amazon.awssdk.core.internal.waiters.WaiterExecutor.maybeRetry(WaiterExecutor.java:100)\u001b[0m",
      "\u001b[1m\u001b[31m\tat software.amazon.awssdk.core.internal.waiters.WaiterExecutor.evaluate(WaiterExecutor.java:75)\u001b[0m",
      "\u001b[1m\u001b[31m\tat software.amazon.awssdk.core.internal.waiters.WaiterExecutor.doExecute(WaiterExecutor.java:60)\u001b[0m",
      "\u001b[1m\u001b[31m\tat software.amazon.awssdk.core.internal.waiters.WaiterExecutor.maybeRetry(WaiterExecutor.java:100)\u001b[0m",
      "\u001b[1m\u001b[31m\tat software.amazon.awssdk.core.internal.waiters.WaiterExecutor.evaluate(WaiterExecutor.java:75)\u001b[0m",
      "\u001b[1m\u001b[31m\tat software.amazon.awssdk.core.internal.waiters.WaiterExecutor.doExecute(WaiterExecutor.java:60)\u001b[0m",
      "\u001b[1m\u001b[31m\tat software.amazon.awssdk.core.internal.waiters.WaiterExecutor.execute(WaiterExecutor.java:48)\u001b[0m",
      "\u001b[1m\u001b[31m\tat software.amazon.awssdk.core.internal.waiters.DefaultWaiter.run(DefaultWaiter.java:49)\u001b[0m",
      "\u001b[1m\u001b[31m\tat software.amazon.awssdk.services.sagemaker.waiters.DefaultSageMakerWaiter.waitUntilEndpointInService(DefaultSageMakerWaiter.java:132)\u001b[0m",
      "\u001b[1m\u001b[31m\tat ai.djl.aws.sagemaker.SageMaker.deploy(SageMaker.java:146)\u001b[0m",
      "\u001b[1m\u001b[31m\tat .(#101:1)\u001b[0m"
     ]
    }
   ],
   "source": [
    "//Criteria<NDList, NDList> criteria =\n",
    "//                Criteria.builder()\n",
    "//                        .setTypes(NDList.class, NDList.class)\n",
    "//                        .optModelUrls(\"file://build/resnet\")\n",
    "//                        .build();\n",
    "\n",
    "\n",
    "String modelUrl = \"https://alpha-djl-demos.s3.amazonaws.com/model/djl-blockrunner/mxnet_resnet18.zip?model_name=resnet18_v1\";\n",
    "Criteria<Image, Classifications> criteria = Criteria.builder()\n",
    "  .setTypes(Image.class, Classifications.class)\n",
    "  .optModelUrls(modelUrl)\n",
    "  .optTranslator(ImageClassificationTranslator.builder()\n",
    "                 .setPipeline(new Pipeline()\n",
    "                              .add(new Resize(224, 224))\n",
    "                              .add(new ToTensor()))\n",
    "                 .optApplySoftmax(true).build())\n",
    "  .build();\n",
    "\n",
    "\n",
    "        //ZooModel<Image, Classifications> model = ModelZoo.loadModel(criteria);\n",
    "\n",
    "        try (ZooModel<Image, Classifications> model = ModelZoo.loadModel(criteria)) {\n",
    "            SageMaker sageMaker =\n",
    "                    SageMaker.builder()\n",
    "                            .setModel(model)\n",
    "                            .optBucketName(\"djl-sm-test\")\n",
    "                            .optModelName(\"resnet\")\n",
    "                            .optContainerImage(\"125045733377.dkr.ecr.us-east-1.amazonaws.com/djl\")\n",
    "                            .optExecutionRole(\n",
    "                                    \"arn:aws:iam::125045733377:role/service-role/DJLSageMaker-ExecutionRole-20210213T1027050\")\n",
    "                            .build();\n",
    "\n",
    "            sageMaker.deploy();\n",
    "\n",
    "            byte[] image;\n",
    "            Path imagePath = Paths.get(\"../../examples/src/test/resources/0.png\");\n",
    "            try (InputStream is = Files.newInputStream(imagePath)) {\n",
    "                image = Utils.toByteArray(is);\n",
    "            }\n",
    "            String ret = new String(sageMaker.invoke(image), StandardCharsets.UTF_8);\n",
    "            Type type = new TypeToken<List<Classifications.Classification>>() {}.getType();\n",
    "            List<Classifications.Classification> list = JsonUtils.GSON.fromJson(ret, type);\n",
    "            String className = list.get(0).getClassName();\n",
    "            System.out.println(className);\n",
    "            //Assert.assertEquals(className, \"0\");\n",
    "\n",
    "            sageMaker.deleteEndpoint();\n",
    "            sageMaker.deleteEndpointConfig();\n",
    "            sageMaker.deleteSageMakerModel();\n",
    "        }"
   ]
  },
  {
   "cell_type": "markdown",
   "metadata": {},
   "source": [
    "## Step 3: Create a `Translator`"
   ]
  },
  {
   "cell_type": "code",
   "execution_count": null,
   "metadata": {},
   "outputs": [],
   "source": [
    "Pipeline pipeline = new Pipeline();\n",
    "pipeline.add(new CenterCrop()).add(new Resize(224, 224)).add(new ToTensor());\n",
    "Translator<Image, Classifications> translator = ImageClassificationTranslator.builder()\n",
    "                .setPipeline(pipeline)\n",
    "                .optSynsetArtifactName(\"synset.txt\")\n",
    "                .optApplySoftmax(true)\n",
    "                .build();"
   ]
  },
  {
   "cell_type": "markdown",
   "metadata": {},
   "source": [
    "## Step 4: Load image for classification"
   ]
  },
  {
   "cell_type": "code",
   "execution_count": null,
   "metadata": {},
   "outputs": [],
   "source": [
    "var img = ImageFactory.getInstance().fromUrl(\"https://resources.djl.ai/images/kitten.jpg\");\n",
    "img.getWrappedImage()"
   ]
  },
  {
   "cell_type": "markdown",
   "metadata": {},
   "source": [
    "## Step 5: Run inference"
   ]
  },
  {
   "cell_type": "code",
   "execution_count": null,
   "metadata": {},
   "outputs": [],
   "source": [
    "Predictor<Image, Classifications> predictor = model.newPredictor(translator);\n",
    "Classifications classifications = predictor.predict(img);\n",
    "\n",
    "classifications"
   ]
  },
  {
   "cell_type": "markdown",
   "metadata": {},
   "source": [
    "## Summary\n",
    "\n",
    "Now, you can load any MXNet symbolic model and run inference.\n",
    "\n",
    "You might also want to check out [load_pytorch_model.ipynb](https://github.com/awslabs/djl/blob/master/jupyter/load_pytorch_model.ipynb) which demonstrates loading a local model using the ModelZoo API."
   ]
  },
  {
   "cell_type": "code",
   "execution_count": null,
   "metadata": {},
   "outputs": [],
   "source": []
  }
 ],
 "metadata": {
  "kernelspec": {
   "display_name": "Java",
   "language": "java",
   "name": "java"
  },
  "language_info": {
   "codemirror_mode": "java",
   "file_extension": ".jshell",
   "mimetype": "text/x-java-source",
   "name": "Java",
   "pygments_lexer": "java",
   "version": "11.0.10+9"
  }
 },
 "nbformat": 4,
 "nbformat_minor": 2
}
